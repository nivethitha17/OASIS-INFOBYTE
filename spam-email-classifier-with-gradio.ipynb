{
 "cells": [
  {
   "cell_type": "markdown",
   "id": "880b9dca",
   "metadata": {
    "papermill": {
     "duration": 0.00991,
     "end_time": "2023-08-04T01:34:26.690847",
     "exception": false,
     "start_time": "2023-08-04T01:34:26.680937",
     "status": "completed"
    },
    "tags": []
   },
   "source": [
    "**IMPORTING LIBRARIES**\n",
    "\n",
    "---"
   ]
  },
  {
   "cell_type": "code",
   "execution_count": 1,
   "id": "99e56847",
   "metadata": {
    "execution": {
     "iopub.execute_input": "2023-08-04T01:34:26.713043Z",
     "iopub.status.busy": "2023-08-04T01:34:26.712577Z",
     "iopub.status.idle": "2023-08-04T01:34:49.023210Z",
     "shell.execute_reply": "2023-08-04T01:34:49.021247Z"
    },
    "papermill": {
     "duration": 22.325003,
     "end_time": "2023-08-04T01:34:49.026420",
     "exception": false,
     "start_time": "2023-08-04T01:34:26.701417",
     "status": "completed"
    },
    "tags": []
   },
   "outputs": [],
   "source": [
    "!pip install -q gradio"
   ]
  },
  {
   "cell_type": "code",
   "execution_count": 2,
   "id": "0ff890fb",
   "metadata": {
    "execution": {
     "iopub.execute_input": "2023-08-04T01:34:49.047519Z",
     "iopub.status.busy": "2023-08-04T01:34:49.047080Z",
     "iopub.status.idle": "2023-08-04T01:34:55.073459Z",
     "shell.execute_reply": "2023-08-04T01:34:55.072069Z"
    },
    "papermill": {
     "duration": 6.040865,
     "end_time": "2023-08-04T01:34:55.076747",
     "exception": false,
     "start_time": "2023-08-04T01:34:49.035882",
     "status": "completed"
    },
    "tags": []
   },
   "outputs": [
    {
     "name": "stderr",
     "output_type": "stream",
     "text": [
      "/opt/conda/lib/python3.10/site-packages/scipy/__init__.py:146: UserWarning: A NumPy version >=1.16.5 and <1.23.0 is required for this version of SciPy (detected version 1.23.5\n",
      "  warnings.warn(f\"A NumPy version >={np_minversion} and <{np_maxversion}\"\n"
     ]
    },
    {
     "name": "stdout",
     "output_type": "stream",
     "text": [
      "[nltk_data] Downloading package stopwords to /usr/share/nltk_data...\n",
      "[nltk_data]   Package stopwords is already up-to-date!\n"
     ]
    }
   ],
   "source": [
    "import numpy as np\n",
    "import pandas as pd\n",
    "import seaborn as sns\n",
    "import matplotlib.pyplot as plt\n",
    "from imblearn.combine import SMOTETomek\n",
    "import gradio as gr\n",
    "from sklearn.preprocessing import LabelEncoder\n",
    "import nltk\n",
    "from nltk.corpus import stopwords, wordnet\n",
    "nltk.download('stopwords')\n",
    "import string\n",
    "from nltk.tokenize import RegexpTokenizer\n",
    "from nltk.stem import PorterStemmer, WordNetLemmatizer\n",
    "import re\n",
    "\n",
    "from sklearn.feature_extraction.text import TfidfVectorizer\n",
    "from sklearn.model_selection import train_test_split, RandomizedSearchCV\n",
    "from sklearn.naive_bayes import MultinomialNB, GaussianNB\n",
    "from sklearn.ensemble import RandomForestClassifier\n",
    "from sklearn.metrics import accuracy_score,confusion_matrix,classification_report"
   ]
  },
  {
   "cell_type": "code",
   "execution_count": 3,
   "id": "b100defd",
   "metadata": {
    "execution": {
     "iopub.execute_input": "2023-08-04T01:34:55.099423Z",
     "iopub.status.busy": "2023-08-04T01:34:55.098724Z",
     "iopub.status.idle": "2023-08-04T01:34:55.146460Z",
     "shell.execute_reply": "2023-08-04T01:34:55.144929Z"
    },
    "papermill": {
     "duration": 0.062915,
     "end_time": "2023-08-04T01:34:55.149397",
     "exception": false,
     "start_time": "2023-08-04T01:34:55.086482",
     "status": "completed"
    },
    "tags": []
   },
   "outputs": [],
   "source": [
    "df = pd.read_csv('/kaggle/input/sms-spam-collection-dataset/spam.csv', encoding = 'latin-1')"
   ]
  },
  {
   "cell_type": "code",
   "execution_count": 4,
   "id": "110b5dab",
   "metadata": {
    "execution": {
     "iopub.execute_input": "2023-08-04T01:34:55.173299Z",
     "iopub.status.busy": "2023-08-04T01:34:55.172881Z",
     "iopub.status.idle": "2023-08-04T01:34:55.199856Z",
     "shell.execute_reply": "2023-08-04T01:34:55.198484Z"
    },
    "papermill": {
     "duration": 0.042553,
     "end_time": "2023-08-04T01:34:55.202560",
     "exception": false,
     "start_time": "2023-08-04T01:34:55.160007",
     "status": "completed"
    },
    "tags": []
   },
   "outputs": [
    {
     "data": {
      "text/html": [
       "<div>\n",
       "<style scoped>\n",
       "    .dataframe tbody tr th:only-of-type {\n",
       "        vertical-align: middle;\n",
       "    }\n",
       "\n",
       "    .dataframe tbody tr th {\n",
       "        vertical-align: top;\n",
       "    }\n",
       "\n",
       "    .dataframe thead th {\n",
       "        text-align: right;\n",
       "    }\n",
       "</style>\n",
       "<table border=\"1\" class=\"dataframe\">\n",
       "  <thead>\n",
       "    <tr style=\"text-align: right;\">\n",
       "      <th></th>\n",
       "      <th>v1</th>\n",
       "      <th>v2</th>\n",
       "      <th>Unnamed: 2</th>\n",
       "      <th>Unnamed: 3</th>\n",
       "      <th>Unnamed: 4</th>\n",
       "    </tr>\n",
       "  </thead>\n",
       "  <tbody>\n",
       "    <tr>\n",
       "      <th>0</th>\n",
       "      <td>ham</td>\n",
       "      <td>Go until jurong point, crazy.. Available only ...</td>\n",
       "      <td>NaN</td>\n",
       "      <td>NaN</td>\n",
       "      <td>NaN</td>\n",
       "    </tr>\n",
       "    <tr>\n",
       "      <th>1</th>\n",
       "      <td>ham</td>\n",
       "      <td>Ok lar... Joking wif u oni...</td>\n",
       "      <td>NaN</td>\n",
       "      <td>NaN</td>\n",
       "      <td>NaN</td>\n",
       "    </tr>\n",
       "    <tr>\n",
       "      <th>2</th>\n",
       "      <td>spam</td>\n",
       "      <td>Free entry in 2 a wkly comp to win FA Cup fina...</td>\n",
       "      <td>NaN</td>\n",
       "      <td>NaN</td>\n",
       "      <td>NaN</td>\n",
       "    </tr>\n",
       "    <tr>\n",
       "      <th>3</th>\n",
       "      <td>ham</td>\n",
       "      <td>U dun say so early hor... U c already then say...</td>\n",
       "      <td>NaN</td>\n",
       "      <td>NaN</td>\n",
       "      <td>NaN</td>\n",
       "    </tr>\n",
       "    <tr>\n",
       "      <th>4</th>\n",
       "      <td>ham</td>\n",
       "      <td>Nah I don't think he goes to usf, he lives aro...</td>\n",
       "      <td>NaN</td>\n",
       "      <td>NaN</td>\n",
       "      <td>NaN</td>\n",
       "    </tr>\n",
       "  </tbody>\n",
       "</table>\n",
       "</div>"
      ],
      "text/plain": [
       "     v1                                                 v2 Unnamed: 2  \\\n",
       "0   ham  Go until jurong point, crazy.. Available only ...        NaN   \n",
       "1   ham                      Ok lar... Joking wif u oni...        NaN   \n",
       "2  spam  Free entry in 2 a wkly comp to win FA Cup fina...        NaN   \n",
       "3   ham  U dun say so early hor... U c already then say...        NaN   \n",
       "4   ham  Nah I don't think he goes to usf, he lives aro...        NaN   \n",
       "\n",
       "  Unnamed: 3 Unnamed: 4  \n",
       "0        NaN        NaN  \n",
       "1        NaN        NaN  \n",
       "2        NaN        NaN  \n",
       "3        NaN        NaN  \n",
       "4        NaN        NaN  "
      ]
     },
     "execution_count": 4,
     "metadata": {},
     "output_type": "execute_result"
    }
   ],
   "source": [
    "df.head()"
   ]
  },
  {
   "cell_type": "code",
   "execution_count": 5,
   "id": "7f02c463",
   "metadata": {
    "execution": {
     "iopub.execute_input": "2023-08-04T01:34:55.226351Z",
     "iopub.status.busy": "2023-08-04T01:34:55.225929Z",
     "iopub.status.idle": "2023-08-04T01:34:55.268316Z",
     "shell.execute_reply": "2023-08-04T01:34:55.266839Z"
    },
    "papermill": {
     "duration": 0.057907,
     "end_time": "2023-08-04T01:34:55.270793",
     "exception": false,
     "start_time": "2023-08-04T01:34:55.212886",
     "status": "completed"
    },
    "tags": []
   },
   "outputs": [
    {
     "name": "stdout",
     "output_type": "stream",
     "text": [
      "<class 'pandas.core.frame.DataFrame'>\n",
      "RangeIndex: 5572 entries, 0 to 5571\n",
      "Data columns (total 5 columns):\n",
      " #   Column      Non-Null Count  Dtype \n",
      "---  ------      --------------  ----- \n",
      " 0   v1          5572 non-null   object\n",
      " 1   v2          5572 non-null   object\n",
      " 2   Unnamed: 2  50 non-null     object\n",
      " 3   Unnamed: 3  12 non-null     object\n",
      " 4   Unnamed: 4  6 non-null      object\n",
      "dtypes: object(5)\n",
      "memory usage: 217.8+ KB\n"
     ]
    }
   ],
   "source": [
    "df.info()"
   ]
  },
  {
   "cell_type": "code",
   "execution_count": 6,
   "id": "e1a36a8a",
   "metadata": {
    "execution": {
     "iopub.execute_input": "2023-08-04T01:34:55.294654Z",
     "iopub.status.busy": "2023-08-04T01:34:55.294242Z",
     "iopub.status.idle": "2023-08-04T01:34:55.301045Z",
     "shell.execute_reply": "2023-08-04T01:34:55.299790Z"
    },
    "papermill": {
     "duration": 0.022151,
     "end_time": "2023-08-04T01:34:55.303581",
     "exception": false,
     "start_time": "2023-08-04T01:34:55.281430",
     "status": "completed"
    },
    "tags": []
   },
   "outputs": [],
   "source": [
    "df.drop(columns=['Unnamed: 2','Unnamed: 3','Unnamed: 4'],inplace=True)"
   ]
  },
  {
   "cell_type": "code",
   "execution_count": 7,
   "id": "acbbbd79",
   "metadata": {
    "execution": {
     "iopub.execute_input": "2023-08-04T01:34:55.325570Z",
     "iopub.status.busy": "2023-08-04T01:34:55.325171Z",
     "iopub.status.idle": "2023-08-04T01:34:55.341196Z",
     "shell.execute_reply": "2023-08-04T01:34:55.339912Z"
    },
    "papermill": {
     "duration": 0.03049,
     "end_time": "2023-08-04T01:34:55.344079",
     "exception": false,
     "start_time": "2023-08-04T01:34:55.313589",
     "status": "completed"
    },
    "tags": []
   },
   "outputs": [
    {
     "name": "stdout",
     "output_type": "stream",
     "text": [
      "<class 'pandas.core.frame.DataFrame'>\n",
      "RangeIndex: 5572 entries, 0 to 5571\n",
      "Data columns (total 2 columns):\n",
      " #   Column  Non-Null Count  Dtype \n",
      "---  ------  --------------  ----- \n",
      " 0   v1      5572 non-null   object\n",
      " 1   v2      5572 non-null   object\n",
      "dtypes: object(2)\n",
      "memory usage: 87.2+ KB\n"
     ]
    }
   ],
   "source": [
    "df.info()"
   ]
  },
  {
   "cell_type": "code",
   "execution_count": 8,
   "id": "814f1ace",
   "metadata": {
    "execution": {
     "iopub.execute_input": "2023-08-04T01:34:55.367157Z",
     "iopub.status.busy": "2023-08-04T01:34:55.366684Z",
     "iopub.status.idle": "2023-08-04T01:34:55.379634Z",
     "shell.execute_reply": "2023-08-04T01:34:55.378491Z"
    },
    "papermill": {
     "duration": 0.027373,
     "end_time": "2023-08-04T01:34:55.382097",
     "exception": false,
     "start_time": "2023-08-04T01:34:55.354724",
     "status": "completed"
    },
    "tags": []
   },
   "outputs": [
    {
     "data": {
      "text/plain": [
       "403"
      ]
     },
     "execution_count": 8,
     "metadata": {},
     "output_type": "execute_result"
    }
   ],
   "source": [
    "df.duplicated().sum()"
   ]
  },
  {
   "cell_type": "code",
   "execution_count": 9,
   "id": "1249f8ac",
   "metadata": {
    "execution": {
     "iopub.execute_input": "2023-08-04T01:34:55.404420Z",
     "iopub.status.busy": "2023-08-04T01:34:55.404040Z",
     "iopub.status.idle": "2023-08-04T01:34:55.419604Z",
     "shell.execute_reply": "2023-08-04T01:34:55.418446Z"
    },
    "papermill": {
     "duration": 0.029793,
     "end_time": "2023-08-04T01:34:55.422094",
     "exception": false,
     "start_time": "2023-08-04T01:34:55.392301",
     "status": "completed"
    },
    "tags": []
   },
   "outputs": [
    {
     "data": {
      "text/plain": [
       "0"
      ]
     },
     "execution_count": 9,
     "metadata": {},
     "output_type": "execute_result"
    }
   ],
   "source": [
    "df = df.drop_duplicates(keep='first')\n",
    "df.duplicated().sum()"
   ]
  },
  {
   "cell_type": "code",
   "execution_count": 10,
   "id": "2033fb80",
   "metadata": {
    "execution": {
     "iopub.execute_input": "2023-08-04T01:34:55.445205Z",
     "iopub.status.busy": "2023-08-04T01:34:55.444752Z",
     "iopub.status.idle": "2023-08-04T01:34:55.526417Z",
     "shell.execute_reply": "2023-08-04T01:34:55.525554Z"
    },
    "papermill": {
     "duration": 0.096285,
     "end_time": "2023-08-04T01:34:55.528877",
     "exception": false,
     "start_time": "2023-08-04T01:34:55.432592",
     "status": "completed"
    },
    "tags": []
   },
   "outputs": [
    {
     "name": "stdout",
     "output_type": "stream",
     "text": [
      "[nltk_data] Downloading package wordnet to /usr/share/nltk_data...\n",
      "[nltk_data]   Package wordnet is already up-to-date!\n"
     ]
    }
   ],
   "source": [
    "lemmatizer = WordNetLemmatizer()\n",
    "stemmer = PorterStemmer()\n",
    "nltk.download('wordnet')\n",
    "def preprocess(sentence):\n",
    "    sentence=str(sentence)\n",
    "    sentence = sentence.lower()\n",
    "    sentence=sentence.replace('{html}',\"\")\n",
    "    cleanr = re.compile('<.*?>')\n",
    "    cleantext = re.sub(cleanr, '', sentence)\n",
    "    rem_url=re.sub(r'http\\S+', '',cleantext)\n",
    "    rem_num = re.sub('[0-9]+', '', rem_url)\n",
    "    tokenizer = RegexpTokenizer(r'\\w+')\n",
    "    tokens = tokenizer.tokenize(rem_num)\n",
    "    filtered_words = [w for w in tokens if len(w) > 2 if not w in stopwords.words('english')]\n",
    "#     stem_words=[stemmer.stem(w) for w in filtered_words]\n",
    "    lemma_words=[lemmatizer.lemmatize(w) for w in filtered_words]\n",
    "    return \" \".join(filtered_words)"
   ]
  },
  {
   "cell_type": "code",
   "execution_count": 11,
   "id": "f4583f49",
   "metadata": {
    "execution": {
     "iopub.execute_input": "2023-08-04T01:34:55.552532Z",
     "iopub.status.busy": "2023-08-04T01:34:55.552103Z",
     "iopub.status.idle": "2023-08-04T01:34:57.016559Z",
     "shell.execute_reply": "2023-08-04T01:34:57.014906Z"
    },
    "papermill": {
     "duration": 1.480119,
     "end_time": "2023-08-04T01:34:57.019531",
     "exception": false,
     "start_time": "2023-08-04T01:34:55.539412",
     "status": "completed"
    },
    "tags": []
   },
   "outputs": [
    {
     "name": "stdout",
     "output_type": "stream",
     "text": [
      "Archive:  /usr/share/nltk_data/corpora/wordnet.zip\r\n",
      "   creating: /usr/share/nltk_data/corpora/wordnet/\r\n",
      "  inflating: /usr/share/nltk_data/corpora/wordnet/lexnames  \r\n",
      "  inflating: /usr/share/nltk_data/corpora/wordnet/data.verb  \r\n",
      "  inflating: /usr/share/nltk_data/corpora/wordnet/index.adv  \r\n",
      "  inflating: /usr/share/nltk_data/corpora/wordnet/adv.exc  \r\n",
      "  inflating: /usr/share/nltk_data/corpora/wordnet/index.verb  \r\n",
      "  inflating: /usr/share/nltk_data/corpora/wordnet/cntlist.rev  \r\n",
      "  inflating: /usr/share/nltk_data/corpora/wordnet/data.adj  \r\n",
      "  inflating: /usr/share/nltk_data/corpora/wordnet/index.adj  \r\n",
      "  inflating: /usr/share/nltk_data/corpora/wordnet/LICENSE  \r\n",
      "  inflating: /usr/share/nltk_data/corpora/wordnet/citation.bib  \r\n",
      "  inflating: /usr/share/nltk_data/corpora/wordnet/noun.exc  \r\n",
      "  inflating: /usr/share/nltk_data/corpora/wordnet/verb.exc  \r\n",
      "  inflating: /usr/share/nltk_data/corpora/wordnet/README  \r\n",
      "  inflating: /usr/share/nltk_data/corpora/wordnet/index.sense  \r\n",
      "  inflating: /usr/share/nltk_data/corpora/wordnet/data.noun  \r\n",
      "  inflating: /usr/share/nltk_data/corpora/wordnet/data.adv  \r\n",
      "  inflating: /usr/share/nltk_data/corpora/wordnet/index.noun  \r\n",
      "  inflating: /usr/share/nltk_data/corpora/wordnet/adj.exc  \r\n"
     ]
    }
   ],
   "source": [
    "!unzip /usr/share/nltk_data/corpora/wordnet.zip -d /usr/share/nltk_data/corpora/"
   ]
  },
  {
   "cell_type": "code",
   "execution_count": 12,
   "id": "cc97e16d",
   "metadata": {
    "execution": {
     "iopub.execute_input": "2023-08-04T01:34:57.044451Z",
     "iopub.status.busy": "2023-08-04T01:34:57.043971Z",
     "iopub.status.idle": "2023-08-04T01:35:08.192500Z",
     "shell.execute_reply": "2023-08-04T01:35:08.190472Z"
    },
    "papermill": {
     "duration": 11.165946,
     "end_time": "2023-08-04T01:35:08.196596",
     "exception": false,
     "start_time": "2023-08-04T01:34:57.030650",
     "status": "completed"
    },
    "tags": []
   },
   "outputs": [],
   "source": [
    "df['v2'] = df['v2'].map(lambda s:preprocess(s))"
   ]
  },
  {
   "cell_type": "code",
   "execution_count": 13,
   "id": "cdac12dc",
   "metadata": {
    "execution": {
     "iopub.execute_input": "2023-08-04T01:35:08.223715Z",
     "iopub.status.busy": "2023-08-04T01:35:08.223229Z",
     "iopub.status.idle": "2023-08-04T01:35:08.233081Z",
     "shell.execute_reply": "2023-08-04T01:35:08.231604Z"
    },
    "papermill": {
     "duration": 0.027491,
     "end_time": "2023-08-04T01:35:08.235666",
     "exception": false,
     "start_time": "2023-08-04T01:35:08.208175",
     "status": "completed"
    },
    "tags": []
   },
   "outputs": [
    {
     "data": {
      "text/plain": [
       "0       jurong point crazy available bugis great world...\n",
       "1                                      lar joking wif oni\n",
       "2       free entry wkly comp win cup final tkts may te...\n",
       "3                           dun say early hor already say\n",
       "4                  nah think goes usf lives around though\n",
       "                              ...                        \n",
       "5567    time tried contact pound prize claim easy call...\n",
       "5568                                 going esplanade home\n",
       "5569                                pity mood suggestions\n",
       "5570    guy bitching acted like interested buying some...\n",
       "5571                                       rofl true name\n",
       "Name: v2, Length: 5169, dtype: object"
      ]
     },
     "execution_count": 13,
     "metadata": {},
     "output_type": "execute_result"
    }
   ],
   "source": [
    "df['v2']"
   ]
  },
  {
   "cell_type": "code",
   "execution_count": 14,
   "id": "50d7931e",
   "metadata": {
    "execution": {
     "iopub.execute_input": "2023-08-04T01:35:08.261726Z",
     "iopub.status.busy": "2023-08-04T01:35:08.261313Z",
     "iopub.status.idle": "2023-08-04T01:35:08.266695Z",
     "shell.execute_reply": "2023-08-04T01:35:08.265408Z"
    },
    "papermill": {
     "duration": 0.021831,
     "end_time": "2023-08-04T01:35:08.269315",
     "exception": false,
     "start_time": "2023-08-04T01:35:08.247484",
     "status": "completed"
    },
    "tags": []
   },
   "outputs": [],
   "source": [
    "tf = TfidfVectorizer()"
   ]
  },
  {
   "cell_type": "code",
   "execution_count": 15,
   "id": "9b33c24f",
   "metadata": {
    "execution": {
     "iopub.execute_input": "2023-08-04T01:35:08.294649Z",
     "iopub.status.busy": "2023-08-04T01:35:08.294240Z",
     "iopub.status.idle": "2023-08-04T01:35:08.416924Z",
     "shell.execute_reply": "2023-08-04T01:35:08.415875Z"
    },
    "papermill": {
     "duration": 0.138855,
     "end_time": "2023-08-04T01:35:08.419895",
     "exception": false,
     "start_time": "2023-08-04T01:35:08.281040",
     "status": "completed"
    },
    "tags": []
   },
   "outputs": [],
   "source": [
    "x = tf.fit_transform(df['v2'])"
   ]
  },
  {
   "cell_type": "code",
   "execution_count": 16,
   "id": "d797c988",
   "metadata": {
    "execution": {
     "iopub.execute_input": "2023-08-04T01:35:08.444741Z",
     "iopub.status.busy": "2023-08-04T01:35:08.444353Z",
     "iopub.status.idle": "2023-08-04T01:35:08.451732Z",
     "shell.execute_reply": "2023-08-04T01:35:08.450493Z"
    },
    "papermill": {
     "duration": 0.023172,
     "end_time": "2023-08-04T01:35:08.454336",
     "exception": false,
     "start_time": "2023-08-04T01:35:08.431164",
     "status": "completed"
    },
    "tags": []
   },
   "outputs": [],
   "source": [
    "le = LabelEncoder()\n",
    "y = le.fit_transform(df['v1'])"
   ]
  },
  {
   "cell_type": "code",
   "execution_count": 17,
   "id": "09701f7b",
   "metadata": {
    "execution": {
     "iopub.execute_input": "2023-08-04T01:35:08.478667Z",
     "iopub.status.busy": "2023-08-04T01:35:08.478267Z",
     "iopub.status.idle": "2023-08-04T01:35:08.485275Z",
     "shell.execute_reply": "2023-08-04T01:35:08.484318Z"
    },
    "papermill": {
     "duration": 0.02214,
     "end_time": "2023-08-04T01:35:08.487735",
     "exception": false,
     "start_time": "2023-08-04T01:35:08.465595",
     "status": "completed"
    },
    "tags": []
   },
   "outputs": [
    {
     "data": {
      "text/plain": [
       "array([0, 0, 1, ..., 0, 0, 0])"
      ]
     },
     "execution_count": 17,
     "metadata": {},
     "output_type": "execute_result"
    }
   ],
   "source": [
    "y"
   ]
  },
  {
   "cell_type": "code",
   "execution_count": 18,
   "id": "6d2e80b8",
   "metadata": {
    "execution": {
     "iopub.execute_input": "2023-08-04T01:35:08.512791Z",
     "iopub.status.busy": "2023-08-04T01:35:08.512259Z",
     "iopub.status.idle": "2023-08-04T01:35:19.326113Z",
     "shell.execute_reply": "2023-08-04T01:35:19.324583Z"
    },
    "papermill": {
     "duration": 10.830834,
     "end_time": "2023-08-04T01:35:19.330295",
     "exception": false,
     "start_time": "2023-08-04T01:35:08.499461",
     "status": "completed"
    },
    "tags": []
   },
   "outputs": [],
   "source": [
    "smt=SMOTETomek()\n",
    "x,y=smt.fit_resample(x,y)"
   ]
  },
  {
   "cell_type": "code",
   "execution_count": 19,
   "id": "f5b4989f",
   "metadata": {
    "execution": {
     "iopub.execute_input": "2023-08-04T01:35:19.364417Z",
     "iopub.status.busy": "2023-08-04T01:35:19.364009Z",
     "iopub.status.idle": "2023-08-04T01:35:19.373372Z",
     "shell.execute_reply": "2023-08-04T01:35:19.372292Z"
    },
    "papermill": {
     "duration": 0.02526,
     "end_time": "2023-08-04T01:35:19.376222",
     "exception": false,
     "start_time": "2023-08-04T01:35:19.350962",
     "status": "completed"
    },
    "tags": []
   },
   "outputs": [],
   "source": [
    "x_train,x_test,y_train,y_test = train_test_split(x,y,test_size=0.2,random_state=123)"
   ]
  },
  {
   "cell_type": "code",
   "execution_count": 20,
   "id": "209f7ba3",
   "metadata": {
    "execution": {
     "iopub.execute_input": "2023-08-04T01:35:19.402252Z",
     "iopub.status.busy": "2023-08-04T01:35:19.400968Z",
     "iopub.status.idle": "2023-08-04T01:35:19.409146Z",
     "shell.execute_reply": "2023-08-04T01:35:19.407128Z"
    },
    "papermill": {
     "duration": 0.026088,
     "end_time": "2023-08-04T01:35:19.414123",
     "exception": false,
     "start_time": "2023-08-04T01:35:19.388035",
     "status": "completed"
    },
    "tags": []
   },
   "outputs": [],
   "source": [
    "rf = RandomForestClassifier(criterion='entropy',max_depth=110,max_features='auto',min_samples_leaf=2,min_samples_split=5,n_estimators=180)"
   ]
  },
  {
   "cell_type": "code",
   "execution_count": 21,
   "id": "51ef6247",
   "metadata": {
    "execution": {
     "iopub.execute_input": "2023-08-04T01:35:19.439790Z",
     "iopub.status.busy": "2023-08-04T01:35:19.438983Z",
     "iopub.status.idle": "2023-08-04T01:35:28.173391Z",
     "shell.execute_reply": "2023-08-04T01:35:28.172441Z"
    },
    "papermill": {
     "duration": 8.750465,
     "end_time": "2023-08-04T01:35:28.176228",
     "exception": false,
     "start_time": "2023-08-04T01:35:19.425763",
     "status": "completed"
    },
    "tags": []
   },
   "outputs": [
    {
     "name": "stderr",
     "output_type": "stream",
     "text": [
      "/opt/conda/lib/python3.10/site-packages/sklearn/ensemble/_forest.py:424: FutureWarning: `max_features='auto'` has been deprecated in 1.1 and will be removed in 1.3. To keep the past behaviour, explicitly set `max_features='sqrt'` or remove this parameter as it is also the default value for RandomForestClassifiers and ExtraTreesClassifiers.\n",
      "  warn(\n"
     ]
    }
   ],
   "source": [
    "rf.fit(x_train, y_train)\n",
    "predrftrain = rf.predict(x_train)\n",
    "predrftest = rf.predict(x_test)"
   ]
  },
  {
   "cell_type": "code",
   "execution_count": 22,
   "id": "1670bac4",
   "metadata": {
    "execution": {
     "iopub.execute_input": "2023-08-04T01:35:28.201905Z",
     "iopub.status.busy": "2023-08-04T01:35:28.201241Z",
     "iopub.status.idle": "2023-08-04T01:35:28.210393Z",
     "shell.execute_reply": "2023-08-04T01:35:28.208919Z"
    },
    "papermill": {
     "duration": 0.025425,
     "end_time": "2023-08-04T01:35:28.213155",
     "exception": false,
     "start_time": "2023-08-04T01:35:28.187730",
     "status": "completed"
    },
    "tags": []
   },
   "outputs": [
    {
     "name": "stdout",
     "output_type": "stream",
     "text": [
      "1\n",
      "1\n"
     ]
    }
   ],
   "source": [
    "print(round(accuracy_score(y_train, predrftrain)))\n",
    "print(round(accuracy_score(y_test, predrftest)))"
   ]
  },
  {
   "cell_type": "code",
   "execution_count": 23,
   "id": "36cb45d1",
   "metadata": {
    "execution": {
     "iopub.execute_input": "2023-08-04T01:35:28.240610Z",
     "iopub.status.busy": "2023-08-04T01:35:28.239140Z",
     "iopub.status.idle": "2023-08-04T01:35:28.254512Z",
     "shell.execute_reply": "2023-08-04T01:35:28.253134Z"
    },
    "papermill": {
     "duration": 0.032161,
     "end_time": "2023-08-04T01:35:28.257600",
     "exception": false,
     "start_time": "2023-08-04T01:35:28.225439",
     "status": "completed"
    },
    "tags": []
   },
   "outputs": [],
   "source": [
    "mnb = MultinomialNB()\n",
    "mnb = mnb.fit(x_train, y_train)"
   ]
  },
  {
   "cell_type": "code",
   "execution_count": 24,
   "id": "b78f30c7",
   "metadata": {
    "execution": {
     "iopub.execute_input": "2023-08-04T01:35:28.282640Z",
     "iopub.status.busy": "2023-08-04T01:35:28.282206Z",
     "iopub.status.idle": "2023-08-04T01:35:28.290183Z",
     "shell.execute_reply": "2023-08-04T01:35:28.288778Z"
    },
    "papermill": {
     "duration": 0.024023,
     "end_time": "2023-08-04T01:35:28.293010",
     "exception": false,
     "start_time": "2023-08-04T01:35:28.268987",
     "status": "completed"
    },
    "tags": []
   },
   "outputs": [],
   "source": [
    "predmnbtrain = mnb.predict(x_train)\n",
    "predmnbtest = mnb.predict(x_test)"
   ]
  },
  {
   "cell_type": "code",
   "execution_count": 25,
   "id": "2628299f",
   "metadata": {
    "execution": {
     "iopub.execute_input": "2023-08-04T01:35:28.318609Z",
     "iopub.status.busy": "2023-08-04T01:35:28.317554Z",
     "iopub.status.idle": "2023-08-04T01:35:28.327893Z",
     "shell.execute_reply": "2023-08-04T01:35:28.326566Z"
    },
    "papermill": {
     "duration": 0.026043,
     "end_time": "2023-08-04T01:35:28.330632",
     "exception": false,
     "start_time": "2023-08-04T01:35:28.304589",
     "status": "completed"
    },
    "tags": []
   },
   "outputs": [
    {
     "name": "stdout",
     "output_type": "stream",
     "text": [
      "Train accuracy score of the model is:  0.98\n",
      "Test accuracy score of the model is:  0.97\n"
     ]
    }
   ],
   "source": [
    "print('Train accuracy score of the model is: ', round(accuracy_score(y_train, predmnbtrain),2))\n",
    "print('Test accuracy score of the model is: ', round(accuracy_score(y_test, predmnbtest),2))"
   ]
  },
  {
   "cell_type": "markdown",
   "id": "2e4a4c21",
   "metadata": {
    "papermill": {
     "duration": 0.011368,
     "end_time": "2023-08-04T01:35:28.353545",
     "exception": false,
     "start_time": "2023-08-04T01:35:28.342177",
     "status": "completed"
    },
    "tags": []
   },
   "source": [
    "We choose randomforestclassifier \n",
    "\n",
    "---"
   ]
  },
  {
   "cell_type": "code",
   "execution_count": 26,
   "id": "21f41a0d",
   "metadata": {
    "execution": {
     "iopub.execute_input": "2023-08-04T01:35:28.379667Z",
     "iopub.status.busy": "2023-08-04T01:35:28.378575Z",
     "iopub.status.idle": "2023-08-04T01:35:34.772179Z",
     "shell.execute_reply": "2023-08-04T01:35:34.771178Z"
    },
    "papermill": {
     "duration": 6.409415,
     "end_time": "2023-08-04T01:35:34.774736",
     "exception": false,
     "start_time": "2023-08-04T01:35:28.365321",
     "status": "completed"
    },
    "tags": []
   },
   "outputs": [
    {
     "name": "stdout",
     "output_type": "stream",
     "text": [
      "Running on local URL:  http://127.0.0.1:7860\n",
      "Kaggle notebooks require sharing enabled. Setting `share=True` (you can turn this off by setting `share=False` in `launch()` explicitly).\n",
      "\n",
      "Running on public URL: https://b3d7815036894f3ffa.gradio.live\n",
      "\n",
      "This share link expires in 72 hours. For free permanent hosting and GPU upgrades, run `gradio deploy` from Terminal to deploy to Spaces (https://huggingface.co/spaces)\n"
     ]
    },
    {
     "data": {
      "text/html": [
       "<div><iframe src=\"https://b3d7815036894f3ffa.gradio.live\" width=\"100%\" height=\"500\" allow=\"autoplay; camera; microphone; clipboard-read; clipboard-write;\" frameborder=\"0\" allowfullscreen></iframe></div>"
      ],
      "text/plain": [
       "<IPython.core.display.HTML object>"
      ]
     },
     "metadata": {},
     "output_type": "display_data"
    },
    {
     "data": {
      "text/plain": []
     },
     "execution_count": 26,
     "metadata": {},
     "output_type": "execute_result"
    }
   ],
   "source": [
    "import gradio as gr\n",
    "\n",
    "def transform(input_text):\n",
    "        transformed_input = preprocess(input_text)\n",
    "        vectorizedd = tf.transform([transformed_input])\n",
    "        result = rf.predict_proba(vectorizedd)[0]\n",
    "        return {\"ham\" : float(result[0]), \"spam\" : float(result[1])}\n",
    "\n",
    "\n",
    "demo = gr.Interface(\n",
    "    fn=transform,\n",
    "    inputs=gr.Textbox(),\n",
    "    outputs='label',\n",
    ")\n",
    "demo.launch()"
   ]
  },
  {
   "cell_type": "code",
   "execution_count": null,
   "id": "76a6c15a",
   "metadata": {
    "papermill": {
     "duration": 0.012124,
     "end_time": "2023-08-04T01:35:34.799634",
     "exception": false,
     "start_time": "2023-08-04T01:35:34.787510",
     "status": "completed"
    },
    "tags": []
   },
   "outputs": [],
   "source": []
  }
 ],
 "metadata": {
  "kernelspec": {
   "display_name": "Python 3",
   "language": "python",
   "name": "python3"
  },
  "language_info": {
   "codemirror_mode": {
    "name": "ipython",
    "version": 3
   },
   "file_extension": ".py",
   "mimetype": "text/x-python",
   "name": "python",
   "nbconvert_exporter": "python",
   "pygments_lexer": "ipython3",
   "version": "3.10.12"
  },
  "papermill": {
   "default_parameters": {},
   "duration": 85.714787,
   "end_time": "2023-08-04T01:35:37.435658",
   "environment_variables": {},
   "exception": null,
   "input_path": "__notebook__.ipynb",
   "output_path": "__notebook__.ipynb",
   "parameters": {},
   "start_time": "2023-08-04T01:34:11.720871",
   "version": "2.4.0"
  }
 },
 "nbformat": 4,
 "nbformat_minor": 5
}
